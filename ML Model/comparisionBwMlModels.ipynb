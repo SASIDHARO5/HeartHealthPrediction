{
 "cells": [
  {
   "cell_type": "code",
   "execution_count": 8,
   "id": "6d4e282b-6a4e-4cbe-a402-63eff8ac203c",
   "metadata": {
    "scrolled": true
   },
   "outputs": [
    {
     "name": "stdout",
     "output_type": "stream",
     "text": [
      "Accuracy: 0.9085264900662252\n",
      "Precision: 0.5551694178974804\n",
      "Recall: 0.13401845637583892\n",
      "F1 Score: 0.21591485048150028\n",
      "AUC-ROC: 0.847064913172017\n"
     ]
    }
   ],
   "source": [
    "#LogReg\n",
    "import pandas as pd\n",
    "from sklearn.model_selection import train_test_split\n",
    "from sklearn.linear_model import LogisticRegression\n",
    "from sklearn.preprocessing import StandardScaler\n",
    "from sklearn import metrics\n",
    "\n",
    "dataset_path = '/Users/sasi_/Downloads/brfssdataset_dropped3.csv'\n",
    "\n",
    "df = pd.read_csv(dataset_path)\n",
    "\n",
    "selected_features = ['HighBP', 'HighChol', 'CholCheck', 'BMI', 'Smoker',\n",
    "                      'Stroke', 'Diabetes', 'PhysActivity', 'Fruits', 'Veggies',\n",
    "                      'HvyAlcoholConsump', 'GenHlth',\n",
    "                      'MentHlth', 'PhysHlth', 'DiffWalk', 'Sex', 'Age']\n",
    "\n",
    "X = df[selected_features]\n",
    "y = df['HeartDiseaseorAttack']\n",
    "\n",
    "X = pd.get_dummies(X)\n",
    "\n",
    "scaler = StandardScaler()\n",
    "X_scaled = scaler.fit_transform(X)\n",
    "\n",
    "X_train, X_test, y_train, y_test = train_test_split(X_scaled, y, test_size=0.2, random_state=42)\n",
    "\n",
    "\n",
    "model = LogisticRegression(max_iter=2000)\n",
    "\n",
    "model.fit(X_train, y_train)\n",
    "\n",
    "y_pred = model.predict(X_test)\n",
    "y_prob = model.predict_proba(X_test)[:, 1] \n",
    "\n",
    "\n",
    "print('Accuracy:', metrics.accuracy_score(y_test, y_pred))\n",
    "print('Precision:', metrics.precision_score(y_test, y_pred))\n",
    "print('Recall:', metrics.recall_score(y_test, y_pred))\n",
    "print('F1 Score:', metrics.f1_score(y_test, y_pred))\n",
    "print('AUC-ROC:', metrics.roc_auc_score(y_test, y_prob))\n"
   ]
  },
  {
   "cell_type": "code",
   "execution_count": 6,
   "id": "e3bea5a0-b39c-47b0-a1e2-800f7dd8a904",
   "metadata": {},
   "outputs": [
    {
     "name": "stdout",
     "output_type": "stream",
     "text": [
      "Accuracy: 0.8972918637653737\n",
      "Precision: 0.38110574342458403\n",
      "Recall: 0.14890939597315436\n",
      "F1 Score: 0.21414567938470822\n",
      "AUC-ROC: 0.7949237502102425\n"
     ]
    }
   ],
   "source": [
    "#RandomForest\n",
    "\n",
    "import pandas as pd\n",
    "from sklearn.model_selection import train_test_split\n",
    "from sklearn.ensemble import RandomForestClassifier\n",
    "from sklearn.preprocessing import StandardScaler\n",
    "from sklearn import metrics\n",
    "\n",
    "dataset_path = '/Users/sasi_/Downloads/brfssdataset_dropped3.csv'\n",
    "\n",
    "df = pd.read_csv(dataset_path)\n",
    "\n",
    "selected_features = ['HighBP', 'HighChol', 'CholCheck', 'BMI', 'Smoker',\n",
    "                     'Stroke', 'Diabetes', 'PhysActivity', 'Fruits', 'Veggies',\n",
    "                     'HvyAlcoholConsump', 'GenHlth',\n",
    "                     'MentHlth', 'PhysHlth', 'DiffWalk', 'Sex', 'Age']\n",
    "\n",
    "X = df[selected_features]\n",
    "y = df['HeartDiseaseorAttack']\n",
    "\n",
    "X = pd.get_dummies(X)\n",
    "\n",
    "scaler = StandardScaler()\n",
    "X_scaled = scaler.fit_transform(X)\n",
    "\n",
    "X_train, X_test, y_train, y_test = train_test_split(X_scaled, y, test_size=0.2, random_state=42)\n",
    "\n",
    "model = RandomForestClassifier(n_estimators=100, random_state=42)\n",
    "\n",
    "model.fit(X_train, y_train)\n",
    "\n",
    "y_pred = model.predict(X_test)\n",
    "y_prob = model.predict_proba(X_test)[:, 1] \n",
    "\n",
    "print('Accuracy:', metrics.accuracy_score(y_test, y_pred))\n",
    "print('Precision:', metrics.precision_score(y_test, y_pred))\n",
    "print('Recall:', metrics.recall_score(y_test, y_pred))\n",
    "print('F1 Score:', metrics.f1_score(y_test, y_pred))\n",
    "print('AUC-ROC:', metrics.roc_auc_score(y_test, y_prob))\n",
    "\n",
    "\n"
   ]
  },
  {
   "cell_type": "code",
   "execution_count": 7,
   "id": "a2033770-ca5d-49d7-ae12-c6408a0e319e",
   "metadata": {},
   "outputs": [
    {
     "name": "stdout",
     "output_type": "stream",
     "text": [
      "Accuracy: 0.8605329549038159\n",
      "Precision: 0.2557154953429297\n",
      "Recall: 0.2533557046979866\n",
      "F1 Score: 0.2545301306363253\n",
      "AUC-ROC: 0.5965425735870824\n"
     ]
    }
   ],
   "source": [
    "#DecisionTrees\n",
    "\n",
    "import pandas as pd\n",
    "from sklearn.model_selection import train_test_split\n",
    "from sklearn.tree import DecisionTreeClassifier\n",
    "from sklearn.preprocessing import StandardScaler\n",
    "from sklearn import metrics\n",
    "\n",
    "dataset_path = '/Users/sasi_/Downloads/brfssdataset_dropped3.csv'\n",
    "\n",
    "df = pd.read_csv(dataset_path)\n",
    "\n",
    "selected_features = ['HighBP', 'HighChol', 'CholCheck', 'BMI', 'Smoker',\n",
    "                      'Stroke', 'Diabetes', 'PhysActivity', 'Fruits', 'Veggies',\n",
    "                      'HvyAlcoholConsump', 'GenHlth',\n",
    "                      'MentHlth', 'PhysHlth', 'DiffWalk', 'Sex', 'Age']\n",
    "\n",
    "X = df[selected_features]\n",
    "y = df['HeartDiseaseorAttack']\n",
    "\n",
    "X = pd.get_dummies(X)\n",
    "\n",
    "scaler = StandardScaler()\n",
    "X_scaled = scaler.fit_transform(X)\n",
    "\n",
    "X_train, X_test, y_train, y_test = train_test_split(X_scaled, y, test_size=0.2, random_state=42)\n",
    "\n",
    "model = DecisionTreeClassifier()\n",
    "\n",
    "model.fit(X_train, y_train)\n",
    "\n",
    "y_pred = model.predict(X_test)\n",
    "y_prob = model.predict_proba(X_test)[:, 1] \n",
    "\n",
    "\n",
    "print('Accuracy:', metrics.accuracy_score(y_test, y_pred))\n",
    "print('Precision:', metrics.precision_score(y_test, y_pred))\n",
    "print('Recall:', metrics.recall_score(y_test, y_pred))\n",
    "print('F1 Score:', metrics.f1_score(y_test, y_pred))\n",
    "print('AUC-ROC:', metrics.roc_auc_score(y_test, y_prob))\n",
    "\n"
   ]
  },
  {
   "cell_type": "code",
   "execution_count": null,
   "id": "4b8b543e-eded-411e-b36c-404ebec0bbbb",
   "metadata": {},
   "outputs": [],
   "source": []
  }
 ],
 "metadata": {
  "kernelspec": {
   "display_name": "Python 3 (ipykernel)",
   "language": "python",
   "name": "python3"
  },
  "language_info": {
   "codemirror_mode": {
    "name": "ipython",
    "version": 3
   },
   "file_extension": ".py",
   "mimetype": "text/x-python",
   "name": "python",
   "nbconvert_exporter": "python",
   "pygments_lexer": "ipython3",
   "version": "3.9.13"
  }
 },
 "nbformat": 4,
 "nbformat_minor": 5
}
